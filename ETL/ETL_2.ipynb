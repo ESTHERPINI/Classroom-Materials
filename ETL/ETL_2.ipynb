{
 "cells": [
  {
   "cell_type": "markdown",
   "id": "congressional-reservoir",
   "metadata": {
    "toc": true
   },
   "source": [
    "<h1>Table of Contents<span class=\"tocSkip\"></span></h1>\n",
    "<div class=\"toc\"><ul class=\"toc-item\"><li><span><a href=\"#Exploramos-los-datos-que-tenemos\" data-toc-modified-id=\"Exploramos-los-datos-que-tenemos-1\"><span class=\"toc-item-num\">1&nbsp;&nbsp;</span>Exploramos los datos que tenemos</a></span></li><li><span><a href=\"#Misión-1\" data-toc-modified-id=\"Misión-1-2\"><span class=\"toc-item-num\">2&nbsp;&nbsp;</span>Misión 1</a></span><ul class=\"toc-item\"><li><span><a href=\"#¡Datos-a-SQL!\" data-toc-modified-id=\"¡Datos-a-SQL!-2.1\"><span class=\"toc-item-num\">2.1&nbsp;&nbsp;</span>¡Datos a SQL!</a></span><ul class=\"toc-item\"><li><span><a href=\"#Nos-conectamos-con-SQL\" data-toc-modified-id=\"Nos-conectamos-con-SQL-2.1.1\"><span class=\"toc-item-num\">2.1.1&nbsp;&nbsp;</span>Nos conectamos con SQL</a></span></li><li><span><a href=\"#Comenzamos-a-crear-tablas\" data-toc-modified-id=\"Comenzamos-a-crear-tablas-2.1.2\"><span class=\"toc-item-num\">2.1.2&nbsp;&nbsp;</span>Comenzamos a crear tablas</a></span></li><li><span><a href=\"#Iteramos-por-el-dataframe-para-meter-los-datos-en-SQL\" data-toc-modified-id=\"Iteramos-por-el-dataframe-para-meter-los-datos-en-SQL-2.1.3\"><span class=\"toc-item-num\">2.1.3&nbsp;&nbsp;</span>Iteramos por el dataframe para meter los datos en SQL</a></span></li></ul></li></ul></li><li><span><a href=\"#Antes-de-seguir,-tenemos-que...-¡¡TRATAR-LOS-DATOS!!\" data-toc-modified-id=\"Antes-de-seguir,-tenemos-que...-¡¡TRATAR-LOS-DATOS!!-3\"><span class=\"toc-item-num\">3&nbsp;&nbsp;</span>Antes de seguir, tenemos que... ¡¡TRATAR LOS DATOS!!</a></span></li><li><span><a href=\"#Misión-2\" data-toc-modified-id=\"Misión-2-4\"><span class=\"toc-item-num\">4&nbsp;&nbsp;</span>Misión 2</a></span></li><li><span><a href=\"#¡Datos-a-MongoDB!\" data-toc-modified-id=\"¡Datos-a-MongoDB!-5\"><span class=\"toc-item-num\">5&nbsp;&nbsp;</span>¡Datos a MongoDB!</a></span></li></ul></div>"
   ]
  },
  {
   "cell_type": "markdown",
   "id": "magnetic-destiny",
   "metadata": {},
   "source": [
    "## Exploramos los datos que tenemos"
   ]
  },
  {
   "cell_type": "code",
   "execution_count": 1,
   "id": "signal-halloween",
   "metadata": {},
   "outputs": [],
   "source": [
    "import pandas as pd"
   ]
  },
  {
   "cell_type": "code",
   "execution_count": 2,
   "id": "handy-procurement",
   "metadata": {},
   "outputs": [
    {
     "data": {
      "text/html": [
       "<div>\n",
       "<style scoped>\n",
       "    .dataframe tbody tr th:only-of-type {\n",
       "        vertical-align: middle;\n",
       "    }\n",
       "\n",
       "    .dataframe tbody tr th {\n",
       "        vertical-align: top;\n",
       "    }\n",
       "\n",
       "    .dataframe thead th {\n",
       "        text-align: right;\n",
       "    }\n",
       "</style>\n",
       "<table border=\"1\" class=\"dataframe\">\n",
       "  <thead>\n",
       "    <tr style=\"text-align: right;\">\n",
       "      <th></th>\n",
       "      <th>artista</th>\n",
       "      <th>nombre</th>\n",
       "      <th>ironhacker</th>\n",
       "      <th>letra</th>\n",
       "    </tr>\n",
       "  </thead>\n",
       "  <tbody>\n",
       "    <tr>\n",
       "      <th>0</th>\n",
       "      <td>Fuel Fandango</td>\n",
       "      <td>Mi danza (feat. Dani de Morón)</td>\n",
       "      <td>soyungalgo</td>\n",
       "      <td>[Letra de \"Mi Danza\"]\\n\\n[Verso 1]\\nDeja que l...</td>\n",
       "    </tr>\n",
       "    <tr>\n",
       "      <th>1</th>\n",
       "      <td>Zahara</td>\n",
       "      <td>MERICHANE</td>\n",
       "      <td>soyungalgo</td>\n",
       "      <td>[Letra de \"MERICHANE\"]\\n\\n[Estrofa 1]\\nYo esta...</td>\n",
       "    </tr>\n",
       "    <tr>\n",
       "      <th>2</th>\n",
       "      <td>LOS NIKIS</td>\n",
       "      <td>Olaf el vikingo</td>\n",
       "      <td>toni085</td>\n",
       "      <td>Todos en la tribu le tienen miedo\\nOlaf el vik...</td>\n",
       "    </tr>\n",
       "    <tr>\n",
       "      <th>3</th>\n",
       "      <td>rusowsky</td>\n",
       "      <td>So So</td>\n",
       "      <td>ferqwertyuiop</td>\n",
       "      <td>[Intro]\\nWhy is it hard on my own though\\nWhy ...</td>\n",
       "    </tr>\n",
       "    <tr>\n",
       "      <th>4</th>\n",
       "      <td>Chico Blanco</td>\n",
       "      <td>WTF Is In My Cup</td>\n",
       "      <td>1182774545</td>\n",
       "      <td>[Letra de \"WTF Is In My Cup\"]\\n\\n[Estribillo]\\...</td>\n",
       "    </tr>\n",
       "  </tbody>\n",
       "</table>\n",
       "</div>"
      ],
      "text/plain": [
       "         artista                          nombre     ironhacker  \\\n",
       "0  Fuel Fandango  Mi danza (feat. Dani de Morón)     soyungalgo   \n",
       "1         Zahara                       MERICHANE     soyungalgo   \n",
       "2      LOS NIKIS                 Olaf el vikingo        toni085   \n",
       "3       rusowsky                           So So  ferqwertyuiop   \n",
       "4   Chico Blanco                WTF Is In My Cup     1182774545   \n",
       "\n",
       "                                               letra  \n",
       "0  [Letra de \"Mi Danza\"]\\n\\n[Verso 1]\\nDeja que l...  \n",
       "1  [Letra de \"MERICHANE\"]\\n\\n[Estrofa 1]\\nYo esta...  \n",
       "2  Todos en la tribu le tienen miedo\\nOlaf el vik...  \n",
       "3  [Intro]\\nWhy is it hard on my own though\\nWhy ...  \n",
       "4  [Letra de \"WTF Is In My Cup\"]\\n\\n[Estribillo]\\...  "
      ]
     },
     "execution_count": 2,
     "metadata": {},
     "output_type": "execute_result"
    }
   ],
   "source": [
    "data = pd.read_csv(\"output/playlist_letras.csv\")\n",
    "data.head()"
   ]
  },
  {
   "cell_type": "markdown",
   "id": "great-potter",
   "metadata": {},
   "source": [
    " ## Misión 1\n",
    " # <center> Meter los datos en una base de datos de SQL 🙂</center>\n",
    " ### ¡Datos a SQL!"
   ]
  },
  {
   "cell_type": "markdown",
   "id": "colonial-organizer",
   "metadata": {},
   "source": [
    "#### Nos conectamos con SQL"
   ]
  },
  {
   "cell_type": "code",
   "execution_count": 3,
   "id": "electronic-national",
   "metadata": {},
   "outputs": [],
   "source": [
    "import sqlalchemy as alch\n",
    "from getpass import getpass"
   ]
  },
  {
   "cell_type": "code",
   "execution_count": null,
   "id": "coated-williams",
   "metadata": {},
   "outputs": [],
   "source": []
  },
  {
   "cell_type": "code",
   "execution_count": null,
   "id": "successful-accounting",
   "metadata": {},
   "outputs": [],
   "source": []
  },
  {
   "cell_type": "markdown",
   "id": "simplified-victim",
   "metadata": {},
   "source": [
    "#### Comenzamos a crear tablas"
   ]
  },
  {
   "cell_type": "code",
   "execution_count": null,
   "id": "light-battle",
   "metadata": {},
   "outputs": [],
   "source": [
    "# Borramos la base de datos spotify, si no existe no hará nada"
   ]
  },
  {
   "cell_type": "code",
   "execution_count": null,
   "id": "cleared-serum",
   "metadata": {},
   "outputs": [],
   "source": [
    "# Creamos la base de datos spotify"
   ]
  },
  {
   "cell_type": "code",
   "execution_count": null,
   "id": "activated-armstrong",
   "metadata": {},
   "outputs": [],
   "source": [
    "# Le decimos a mySQL que vamos a usar esa base de datos de spotify"
   ]
  },
  {
   "cell_type": "code",
   "execution_count": null,
   "id": "resistant-image",
   "metadata": {},
   "outputs": [],
   "source": [
    "# Creamos una tabla para meter las canciones"
   ]
  },
  {
   "cell_type": "markdown",
   "id": "governmental-imaging",
   "metadata": {},
   "source": [
    "#### Iteramos por el dataframe para meter los datos en SQL"
   ]
  },
  {
   "cell_type": "code",
   "execution_count": null,
   "id": "written-rwanda",
   "metadata": {},
   "outputs": [],
   "source": []
  },
  {
   "cell_type": "markdown",
   "id": "complicated-sauce",
   "metadata": {},
   "source": [
    "## Antes de seguir, tenemos que... ¡¡TRATAR LOS DATOS!!"
   ]
  },
  {
   "cell_type": "code",
   "execution_count": null,
   "id": "ideal-aerospace",
   "metadata": {},
   "outputs": [],
   "source": []
  },
  {
   "cell_type": "code",
   "execution_count": null,
   "id": "political-magnitude",
   "metadata": {},
   "outputs": [],
   "source": []
  },
  {
   "cell_type": "code",
   "execution_count": null,
   "id": "ecological-taiwan",
   "metadata": {},
   "outputs": [],
   "source": []
  },
  {
   "cell_type": "markdown",
   "id": "psychological-postage",
   "metadata": {},
   "source": [
    "Una vez solucionados estos problemas, ejecutamos otra vez la celda anterior"
   ]
  },
  {
   "cell_type": "markdown",
   "id": "caring-barcelona",
   "metadata": {},
   "source": [
    " ## Misión 2\n",
    " # <center> Meter los datos en una base de datos de MongoDB 🙃</center>\n",
    " ## ¡Datos a MongoDB!"
   ]
  },
  {
   "cell_type": "markdown",
   "id": "compatible-apartment",
   "metadata": {},
   "source": [
    "Exportamos el dataframe a json para luego importarlo a la base de datos de mongo"
   ]
  },
  {
   "cell_type": "code",
   "execution_count": null,
   "id": "failing-church",
   "metadata": {},
   "outputs": [],
   "source": []
  },
  {
   "cell_type": "markdown",
   "id": "convertible-travel",
   "metadata": {},
   "source": [
    "Realizamos el siguiente comando en la terminal estando a la altura de la carpeta"
   ]
  },
  {
   "cell_type": "code",
   "execution_count": null,
   "id": "lasting-banks",
   "metadata": {},
   "outputs": [],
   "source": []
  }
 ],
 "metadata": {
  "kernelspec": {
   "display_name": "ironhack",
   "language": "python",
   "name": "ironhack"
  },
  "language_info": {
   "codemirror_mode": {
    "name": "ipython",
    "version": 3
   },
   "file_extension": ".py",
   "mimetype": "text/x-python",
   "name": "python",
   "nbconvert_exporter": "python",
   "pygments_lexer": "ipython3",
   "version": "3.8.5"
  },
  "toc": {
   "base_numbering": 1,
   "nav_menu": {},
   "number_sections": true,
   "sideBar": true,
   "skip_h1_title": true,
   "title_cell": "Table of Contents",
   "title_sidebar": "Contents",
   "toc_cell": true,
   "toc_position": {},
   "toc_section_display": true,
   "toc_window_display": true
  }
 },
 "nbformat": 4,
 "nbformat_minor": 5
}
