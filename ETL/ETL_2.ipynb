{
 "cells": [
  {
   "cell_type": "markdown",
   "id": "congressional-reservoir",
   "metadata": {
    "toc": true
   },
   "source": [
    "<h1>Table of Contents<span class=\"tocSkip\"></span></h1>\n",
    "<div class=\"toc\"><ul class=\"toc-item\"><li><span><a href=\"#Exploramos-los-datos-que-tenemos\" data-toc-modified-id=\"Exploramos-los-datos-que-tenemos-1\"><span class=\"toc-item-num\">1&nbsp;&nbsp;</span>Exploramos los datos que tenemos</a></span></li><li><span><a href=\"#Misión-1\" data-toc-modified-id=\"Misión-1-2\"><span class=\"toc-item-num\">2&nbsp;&nbsp;</span>Misión 1</a></span><ul class=\"toc-item\"><li><span><a href=\"#¡Datos-a-SQL!\" data-toc-modified-id=\"¡Datos-a-SQL!-2.1\"><span class=\"toc-item-num\">2.1&nbsp;&nbsp;</span>¡Datos a SQL!</a></span><ul class=\"toc-item\"><li><span><a href=\"#Nos-conectamos-con-SQL\" data-toc-modified-id=\"Nos-conectamos-con-SQL-2.1.1\"><span class=\"toc-item-num\">2.1.1&nbsp;&nbsp;</span>Nos conectamos con SQL</a></span></li><li><span><a href=\"#Comenzamos-a-crear-tablas\" data-toc-modified-id=\"Comenzamos-a-crear-tablas-2.1.2\"><span class=\"toc-item-num\">2.1.2&nbsp;&nbsp;</span>Comenzamos a crear tablas</a></span></li><li><span><a href=\"#Iteramos-por-el-dataframe-para-meter-los-datos-en-SQL\" data-toc-modified-id=\"Iteramos-por-el-dataframe-para-meter-los-datos-en-SQL-2.1.3\"><span class=\"toc-item-num\">2.1.3&nbsp;&nbsp;</span>Iteramos por el dataframe para meter los datos en SQL</a></span></li></ul></li></ul></li><li><span><a href=\"#Antes-de-seguir,-tenemos-que...-¡¡TRATAR-LOS-DATOS!!\" data-toc-modified-id=\"Antes-de-seguir,-tenemos-que...-¡¡TRATAR-LOS-DATOS!!-3\"><span class=\"toc-item-num\">3&nbsp;&nbsp;</span>Antes de seguir, tenemos que... ¡¡TRATAR LOS DATOS!!</a></span></li><li><span><a href=\"#Misión-2\" data-toc-modified-id=\"Misión-2-4\"><span class=\"toc-item-num\">4&nbsp;&nbsp;</span>Misión 2</a></span></li><li><span><a href=\"#¡Datos-a-MongoDB!\" data-toc-modified-id=\"¡Datos-a-MongoDB!-5\"><span class=\"toc-item-num\">5&nbsp;&nbsp;</span>¡Datos a MongoDB!</a></span></li></ul></div>"
   ]
  },
  {
   "cell_type": "markdown",
   "id": "magnetic-destiny",
   "metadata": {},
   "source": [
    "## Exploramos los datos que tenemos"
   ]
  },
  {
   "cell_type": "code",
   "execution_count": null,
   "id": "signal-halloween",
   "metadata": {},
   "outputs": [],
   "source": [
    "import pandas as pd\n"
   ]
  },
  {
   "cell_type": "code",
   "execution_count": null,
   "id": "handy-procurement",
   "metadata": {},
   "outputs": [],
   "source": []
  },
  {
   "cell_type": "code",
   "execution_count": null,
   "id": "loaded-marsh",
   "metadata": {},
   "outputs": [],
   "source": []
  },
  {
   "cell_type": "markdown",
   "id": "great-potter",
   "metadata": {},
   "source": [
    " ## Misión 1\n",
    " # <center> Meter los datos en una base de datos de SQL 🙂</center>\n",
    " ### ¡Datos a SQL!"
   ]
  },
  {
   "cell_type": "markdown",
   "id": "colonial-organizer",
   "metadata": {},
   "source": [
    "#### Nos conectamos con SQL"
   ]
  },
  {
   "cell_type": "code",
   "execution_count": null,
   "id": "electronic-national",
   "metadata": {},
   "outputs": [],
   "source": [
    "import sqlalchemy as alch\n",
    "from getpass import getpass"
   ]
  },
  {
   "cell_type": "code",
   "execution_count": null,
   "id": "coated-williams",
   "metadata": {},
   "outputs": [],
   "source": []
  },
  {
   "cell_type": "code",
   "execution_count": null,
   "id": "successful-accounting",
   "metadata": {},
   "outputs": [],
   "source": []
  },
  {
   "cell_type": "markdown",
   "id": "simplified-victim",
   "metadata": {},
   "source": [
    "#### Comenzamos a crear tablas"
   ]
  },
  {
   "cell_type": "code",
   "execution_count": null,
   "id": "light-battle",
   "metadata": {},
   "outputs": [],
   "source": [
    "# Borramos la base de datos spotify, si no existe no hará nada"
   ]
  },
  {
   "cell_type": "code",
   "execution_count": null,
   "id": "cleared-serum",
   "metadata": {},
   "outputs": [],
   "source": [
    "# Creamos la base de datos spotify"
   ]
  },
  {
   "cell_type": "code",
   "execution_count": null,
   "id": "activated-armstrong",
   "metadata": {},
   "outputs": [],
   "source": [
    "# Le decimos a mySQL que vamos a usar esa base de datos de spotify"
   ]
  },
  {
   "cell_type": "code",
   "execution_count": null,
   "id": "resistant-image",
   "metadata": {},
   "outputs": [],
   "source": [
    "# Creamos una tabla para meter las canciones"
   ]
  },
  {
   "cell_type": "markdown",
   "id": "governmental-imaging",
   "metadata": {},
   "source": [
    "#### Iteramos por el dataframe para meter los datos en SQL"
   ]
  },
  {
   "cell_type": "code",
   "execution_count": null,
   "id": "written-rwanda",
   "metadata": {},
   "outputs": [],
   "source": []
  },
  {
   "cell_type": "markdown",
   "id": "complicated-sauce",
   "metadata": {},
   "source": [
    "## Antes de seguir, tenemos que... ¡¡TRATAR LOS DATOS!!"
   ]
  },
  {
   "cell_type": "code",
   "execution_count": null,
   "id": "ideal-aerospace",
   "metadata": {},
   "outputs": [],
   "source": []
  },
  {
   "cell_type": "code",
   "execution_count": null,
   "id": "political-magnitude",
   "metadata": {},
   "outputs": [],
   "source": []
  },
  {
   "cell_type": "code",
   "execution_count": null,
   "id": "ecological-taiwan",
   "metadata": {},
   "outputs": [],
   "source": []
  },
  {
   "cell_type": "markdown",
   "id": "psychological-postage",
   "metadata": {},
   "source": [
    "Una vez solucionados estos problemas, ejecutamos otra vez la celda anterior"
   ]
  },
  {
   "cell_type": "markdown",
   "id": "caring-barcelona",
   "metadata": {},
   "source": [
    " ## Misión 2\n",
    " # <center> Meter los datos en una base de datos de MongoDB 🙃</center>\n",
    " ## ¡Datos a MongoDB!"
   ]
  },
  {
   "cell_type": "markdown",
   "id": "compatible-apartment",
   "metadata": {},
   "source": [
    "Exportamos el dataframe a json para luego importarlo a la base de datos de mongo"
   ]
  },
  {
   "cell_type": "code",
   "execution_count": null,
   "id": "failing-church",
   "metadata": {},
   "outputs": [],
   "source": []
  },
  {
   "cell_type": "markdown",
   "id": "convertible-travel",
   "metadata": {},
   "source": [
    "Realizamos el siguiente comando en la terminal estando a la altura de la carpeta"
   ]
  },
  {
   "cell_type": "code",
   "execution_count": null,
   "id": "lasting-banks",
   "metadata": {},
   "outputs": [],
   "source": []
  }
 ],
 "metadata": {
  "kernelspec": {
   "display_name": "ironhack",
   "language": "python",
   "name": "ironhack"
  },
  "language_info": {
   "codemirror_mode": {
    "name": "ipython",
    "version": 3
   },
   "file_extension": ".py",
   "mimetype": "text/x-python",
   "name": "python",
   "nbconvert_exporter": "python",
   "pygments_lexer": "ipython3",
   "version": "3.8.5"
  },
  "toc": {
   "base_numbering": 1,
   "nav_menu": {},
   "number_sections": true,
   "sideBar": true,
   "skip_h1_title": true,
   "title_cell": "Table of Contents",
   "title_sidebar": "Contents",
   "toc_cell": true,
   "toc_position": {},
   "toc_section_display": true,
   "toc_window_display": true
  }
 },
 "nbformat": 4,
 "nbformat_minor": 5
}
