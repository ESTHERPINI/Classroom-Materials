{
 "cells": [
  {
   "cell_type": "markdown",
   "id": "hearing-freedom",
   "metadata": {},
   "source": [
    "# <center> Procesamiento de lenguaje natural (NLP)</center>\n",
    "El [procesamiento de lenguaje natural](https://es.wikipedia.org/wiki/Procesamiento_de_lenguajes_naturales), abreviado PLN3 —en inglés, natural language processing, NLP— es un campo de las ciencias de la computación, de la inteligencia artificial y de la lingüística que estudia las interacciones entre las computadoras y el lenguaje humano. Se ocupa de la formulación e investigación de mecanismos eficaces computacionalmente para la comunicación entre personas y máquinas por medio del lenguaje natural, es decir, de las lenguas del mundo. No trata de la comunicación por medio de lenguas naturales de una forma abstracta, sino de diseñar mecanismos para comunicarse que sean eficaces computacionalmente —que se puedan realizar por medio de programas que ejecuten o simulen la comunicación—.\n"
   ]
  },
  {
   "cell_type": "markdown",
   "id": "split-questionnaire",
   "metadata": {},
   "source": [
    "![elgif](https://media.giphy.com/media/xT0xeJpnrWC4XWblEk/giphy.gif)"
   ]
  },
  {
   "cell_type": "markdown",
   "id": "incoming-criminal",
   "metadata": {},
   "source": [
    "NLP es considerado uno de los grandes retos de la inteligencia artificial ya que es una de las tareas más complicadas y desafiantes: ¿cómo comprender realmente el significado de un texto? ¿cómo intuir neologísmos, irónias, chistes ó poesía? Si la estrategia/algoritmo que utilizamos no sortea esas dificultades de nada nos servirán los resultados obtenidos.\n",
    "En NLP no es suficiente con comprender meras palabras, se deberá comprender al conjunto de palabras que conforman una oración, y al conjunto de lineas que comprenden un párrafo. Dando un sentido global al análisis del texto/discurso para poder sacar buenas conclusiones.\n",
    "\n",
    "Nuestro lenguaje está lleno de ambigüedades, de palabras con distintas acepciones, giros y diversos significados según el contexto. Esto hace que el NLP sea una de las tareas más difíciles de dominar.     \n",
    "\n",
    "![madfalda](https://www.aprendemachinelearning.com/wp-content/uploads/2018/12/mafalda_mundo.png)\n",
    "\n",
    "Por tanto, la dificultad del NLP está en varios niveles:\n",
    "\n",
    "Ambigüedad:\n",
    "\n",
    "- Nivel léxico: por ejemplo, varios significados\n",
    "- Nivel referencial: anáforas, metáforas, etc...\n",
    "- Nivel estructural: la semántica es necesaria para entender la estructura de una oración\n",
    "- Nivel pragmático: dobles sentidos, ironía, humor\n",
    "- Detección de espacios"
   ]
  },
  {
   "cell_type": "markdown",
   "id": "cosmetic-mission",
   "metadata": {
    "toc": true
   },
   "source": [
    "<h1>Table of Contents<span class=\"tocSkip\"></span></h1>\n",
    "<div class=\"toc\"><ul class=\"toc-item\"><li><span><a href=\"#Los-datos\" data-toc-modified-id=\"Los-datos-1\"><span class=\"toc-item-num\">1&nbsp;&nbsp;</span>Los datos</a></span><ul class=\"toc-item\"><li><span><a href=\"#Conexiones-con-Mongo\" data-toc-modified-id=\"Conexiones-con-Mongo-1.1\"><span class=\"toc-item-num\">1.1&nbsp;&nbsp;</span>Conexiones con Mongo</a></span></li></ul></li><li><span><a href=\"#Nos-traemos-todos-los-datos-a-un-dataframe\" data-toc-modified-id=\"Nos-traemos-todos-los-datos-a-un-dataframe-2\"><span class=\"toc-item-num\">2&nbsp;&nbsp;</span>Nos traemos todos los datos a un dataframe</a></span></li><li><span><a href=\"#Limpiamos-un-poco-🧹\" data-toc-modified-id=\"Limpiamos-un-poco-🧹-3\"><span class=\"toc-item-num\">3&nbsp;&nbsp;</span>Limpiamos un poco 🧹</a></span><ul class=\"toc-item\"><li><span><a href=\"#Vamos-a-limpiarlo-con-Regex\" data-toc-modified-id=\"Vamos-a-limpiarlo-con-Regex-3.1\"><span class=\"toc-item-num\">3.1&nbsp;&nbsp;</span>Vamos a limpiarlo con Regex</a></span></li><li><span><a href=\"#Vamos-a-crear-una-nueva-columna-limpia\" data-toc-modified-id=\"Vamos-a-crear-una-nueva-columna-limpia-3.2\"><span class=\"toc-item-num\">3.2&nbsp;&nbsp;</span>Vamos a crear una nueva columna limpia</a></span></li></ul></li><li><span><a href=\"#NLP\" data-toc-modified-id=\"NLP-4\"><span class=\"toc-item-num\">4&nbsp;&nbsp;</span>NLP</a></span><ul class=\"toc-item\"><li><span><a href=\"#Stop-Words\" data-toc-modified-id=\"Stop-Words-4.1\"><span class=\"toc-item-num\">4.1&nbsp;&nbsp;</span>Stop Words</a></span></li><li><span><a href=\"#Tokenizar\" data-toc-modified-id=\"Tokenizar-4.2\"><span class=\"toc-item-num\">4.2&nbsp;&nbsp;</span>Tokenizar</a></span></li></ul></li><li><span><a href=\"#WordClouds\" data-toc-modified-id=\"WordClouds-5\"><span class=\"toc-item-num\">5&nbsp;&nbsp;</span>WordClouds</a></span><ul class=\"toc-item\"><li><span><a href=\"#Generamos-un-WorCloud-de-una-canción\" data-toc-modified-id=\"Generamos-un-WorCloud-de-una-canción-5.1\"><span class=\"toc-item-num\">5.1&nbsp;&nbsp;</span>Generamos un WorCloud de una canción</a></span></li><li><span><a href=\"#También-podemos-generarlo-de-un-dataframe-entero\" data-toc-modified-id=\"También-podemos-generarlo-de-un-dataframe-entero-5.2\"><span class=\"toc-item-num\">5.2&nbsp;&nbsp;</span>También podemos generarlo de un dataframe entero</a></span></li></ul></li><li><span><a href=\"#Traducimos\" data-toc-modified-id=\"Traducimos-6\"><span class=\"toc-item-num\">6&nbsp;&nbsp;</span>Traducimos</a></span></li><li><span><a href=\"#Sentiment-analysis\" data-toc-modified-id=\"Sentiment-analysis-7\"><span class=\"toc-item-num\">7&nbsp;&nbsp;</span>Sentiment analysis</a></span><ul class=\"toc-item\"><li><span><a href=\"#TextBlob\" data-toc-modified-id=\"TextBlob-7.1\"><span class=\"toc-item-num\">7.1&nbsp;&nbsp;</span>TextBlob</a></span></li><li><span><a href=\"#NLTK\" data-toc-modified-id=\"NLTK-7.2\"><span class=\"toc-item-num\">7.2&nbsp;&nbsp;</span>NLTK</a></span></li><li><span><a href=\"#¿Os-acordáis-de-que-habíamos-hecho-una-función-que-tokenizaba?\" data-toc-modified-id=\"¿Os-acordáis-de-que-habíamos-hecho-una-función-que-tokenizaba?-7.3\"><span class=\"toc-item-num\">7.3&nbsp;&nbsp;</span>¿Os acordáis de que habíamos hecho una función que tokenizaba?</a></span></li></ul></li></ul></div>"
   ]
  },
  {
   "cell_type": "markdown",
   "id": "equal-mixer",
   "metadata": {},
   "source": [
    "## Los datos\n",
    "Nos los vamos a traer de una de nuestras bases de datos, en este caso MongoDB\n",
    "### Conexiones con Mongo"
   ]
  },
  {
   "cell_type": "code",
   "execution_count": 1,
   "id": "asian-paintball",
   "metadata": {},
   "outputs": [],
   "source": [
    "from pymongo import MongoClient"
   ]
  },
  {
   "cell_type": "code",
   "execution_count": 2,
   "id": "trying-grove",
   "metadata": {},
   "outputs": [],
   "source": [
    "# Con el comando MongoClient establecemos conexión con el servidor\n",
    "client = MongoClient(\"localhost:27017\")\n",
    "db = client.get_database(\"spotify\")\n",
    "c = db.get_collection(\"canciones\")"
   ]
  },
  {
   "cell_type": "code",
   "execution_count": 3,
   "id": "caroline-emphasis",
   "metadata": {},
   "outputs": [
    {
     "data": {
      "text/plain": [
       "{'_id': ObjectId('60dca62a588aa56e4db94651'),\n",
       " 'artista': 'Dominic Fike',\n",
       " 'nombre': 'Phone Numbers',\n",
       " 'ironhacker': 'ferqwertyuiop',\n",
       " 'letra': \"[Intro]\\nCan you break bread with me?\\nBreak bread with me, break, break\\nCan you break bread with me?\\nBreak bread with me\\nWoah, Kenny\\n\\n[Chorus]\\nWhy you not here with me?\\nCan you break bread with me?\\nWhy you switch phone numbers like clothes?\\nWhy you can't answer me? (Yeah)\\n'Cause I got more coming\\nWhy you not here with me? (Why? Why?)\\nCan you break bread with me? (Oh)\\nWhy you switch phone numbers like clothes? (Uh)\\nWhy you can't answer me? (Yeah, why?)\\n'Cause I got more coming\\n\\n[Verse 1]\\nYes, I moved my shawty from Florida to Hollywood\\nBought some gold, shit look big on me\\nGot some goals, it's a list on me\\nYeah, lil' bitch, I'm rich off rock 'n' roll\\nThe strippers and the strobe playin' tricks on me\\nThe stones hittin' different, you supposed to be pissed at me (No)\\nThey from Tiffany (Please)\\nKeep my name out yo mouth like some wisdom teeth\\n(And you wonder why) Why I'm not there with you\\n(I ain't answered my phone in so long)\\n\\n[Chorus]\\nWhy you not here with me?\\nCan you break bread with me?\\nWhy you switch phone numbers like clothes?\\nWhy you can't answer me? (Yeah)\\n'Cause I got more coming\\nWhy you not here with me? (Why? Why?)\\nCan you break bread with me?\\nWhy you switch phone numbers like clothes?\\nWhy you can't answer me? (Yeah, why?)\\n'Cause I got more coming\\n\\n[Post-Chorus]\\nCan you break bread with me?\\nBreak, break bread with me (Yeah, okay)\\nBreak, break, can you break bread with me?\\nBreak bread with me (Huh)\\nCan you break bread with me?\\n\\n[Verse 2]\\nAnd yes, I moved lil' shawty from 'round me, she been all in my business as of late\\nI got rich so goddamn fast, they want this bread, can't catch a break\\nAnd yes, I know you tired of hatin', I'm tired of starin' at your face\\nAnd if a bitch retaliate, we can go tit-for-tat today\\nThat's on my momma, that's on big Sean, that's on Lil' A from FLA\\nOut here in LA, tryna make shit shake, tryna wrap this case (Ho)\\nThat's a whole hundred twenty K to the magistrate for my parents' sake\\nAnd you still talkin' 'bout sharing cake, shut the fuck up\\n\\n[Chorus]\\nWhy you not here with me?\\nCan you break bread with me?\\nWhy you switch phone numbers like clothes?\\nWhy you can't answer me? (Yeah)\\n'Cause I got more coming\\nWhy you not here with me? (Why?)\\nCan you break bread with me? (Oh)\\nWhy you switch phone numbers like clothes? (Uh)\\nWhy you can't answer me? (Yeah)\\n'Cause I got more coming\\n\\n[Outro]\\nCan you break bread with me?\\nBreak, break bread with me (Okay)\\nBreak, break, can you break bread with me?\\nBreak bread with me\"}"
      ]
     },
     "execution_count": 3,
     "metadata": {},
     "output_type": "execute_result"
    }
   ],
   "source": [
    "c.find_one({})"
   ]
  },
  {
   "cell_type": "code",
   "execution_count": 4,
   "id": "prescribed-theta",
   "metadata": {},
   "outputs": [],
   "source": [
    "# ¿Nos acordamos de cómo podemos ver una lista de las canciones?"
   ]
  },
  {
   "cell_type": "code",
   "execution_count": 5,
   "id": "moving-pontiac",
   "metadata": {},
   "outputs": [
    {
     "data": {
      "text/plain": [
       "dict_keys(['_id', 'artista', 'nombre', 'ironhacker', 'letra'])"
      ]
     },
     "execution_count": 5,
     "metadata": {},
     "output_type": "execute_result"
    }
   ],
   "source": [
    "c.find_one({}).keys()"
   ]
  },
  {
   "cell_type": "code",
   "execution_count": 7,
   "id": "joined-train",
   "metadata": {},
   "outputs": [],
   "source": [
    "#c.distinct(\"nombre\")"
   ]
  },
  {
   "cell_type": "markdown",
   "id": "refined-hopkins",
   "metadata": {},
   "source": [
    "## Nos traemos todos los datos a un dataframe"
   ]
  },
  {
   "cell_type": "code",
   "execution_count": 8,
   "id": "small-identity",
   "metadata": {},
   "outputs": [],
   "source": [
    "import pandas as pd"
   ]
  },
  {
   "cell_type": "code",
   "execution_count": 14,
   "id": "latter-nutrition",
   "metadata": {},
   "outputs": [
    {
     "data": {
      "text/plain": [
       "<pymongo.cursor.Cursor at 0x7fa0e138ba60>"
      ]
     },
     "execution_count": 14,
     "metadata": {},
     "output_type": "execute_result"
    }
   ],
   "source": [
    "c.find({})\n",
    "#recordad que .find devuelve un cursor"
   ]
  },
  {
   "cell_type": "code",
   "execution_count": 9,
   "id": "arabic-burning",
   "metadata": {},
   "outputs": [
    {
     "data": {
      "text/html": [
       "<div>\n",
       "<style scoped>\n",
       "    .dataframe tbody tr th:only-of-type {\n",
       "        vertical-align: middle;\n",
       "    }\n",
       "\n",
       "    .dataframe tbody tr th {\n",
       "        vertical-align: top;\n",
       "    }\n",
       "\n",
       "    .dataframe thead th {\n",
       "        text-align: right;\n",
       "    }\n",
       "</style>\n",
       "<table border=\"1\" class=\"dataframe\">\n",
       "  <thead>\n",
       "    <tr style=\"text-align: right;\">\n",
       "      <th></th>\n",
       "      <th>_id</th>\n",
       "      <th>artista</th>\n",
       "      <th>nombre</th>\n",
       "      <th>ironhacker</th>\n",
       "      <th>letra</th>\n",
       "    </tr>\n",
       "  </thead>\n",
       "  <tbody>\n",
       "    <tr>\n",
       "      <th>0</th>\n",
       "      <td>60dca62a588aa56e4db94651</td>\n",
       "      <td>Dominic Fike</td>\n",
       "      <td>Phone Numbers</td>\n",
       "      <td>ferqwertyuiop</td>\n",
       "      <td>[Intro]\\nCan you break bread with me?\\nBreak b...</td>\n",
       "    </tr>\n",
       "    <tr>\n",
       "      <th>1</th>\n",
       "      <td>60dca62a588aa56e4db94652</td>\n",
       "      <td>Renaldo &amp; Clara</td>\n",
       "      <td>L'amor fa calor</td>\n",
       "      <td>ferqwertyuiop</td>\n",
       "      <td>Oh oh l'amor oh oh fa calor oh oh\\nOh oh l'amo...</td>\n",
       "    </tr>\n",
       "    <tr>\n",
       "      <th>2</th>\n",
       "      <td>60dca62a588aa56e4db94653</td>\n",
       "      <td>rusowsky</td>\n",
       "      <td>So So</td>\n",
       "      <td>ferqwertyuiop</td>\n",
       "      <td>[Intro]\\nWhy is it hard on my own though\\nWhy ...</td>\n",
       "    </tr>\n",
       "    <tr>\n",
       "      <th>3</th>\n",
       "      <td>60dca62a588aa56e4db94654</td>\n",
       "      <td>Hocus Pocus</td>\n",
       "      <td>Hip Hop ?</td>\n",
       "      <td>ferqwertyuiop</td>\n",
       "      <td>[Intro]\\nThat's what it is, uh huh\\nNick Wiz, ...</td>\n",
       "    </tr>\n",
       "    <tr>\n",
       "      <th>4</th>\n",
       "      <td>60dca62a588aa56e4db94655</td>\n",
       "      <td>La Fúmiga</td>\n",
       "      <td>Primera conjugació</td>\n",
       "      <td>soyungalgo</td>\n",
       "      <td>Se desplazo mi centro de gravedad\\nYa no soy l...</td>\n",
       "    </tr>\n",
       "  </tbody>\n",
       "</table>\n",
       "</div>"
      ],
      "text/plain": [
       "                        _id          artista              nombre  \\\n",
       "0  60dca62a588aa56e4db94651     Dominic Fike       Phone Numbers   \n",
       "1  60dca62a588aa56e4db94652  Renaldo & Clara     L'amor fa calor   \n",
       "2  60dca62a588aa56e4db94653         rusowsky               So So   \n",
       "3  60dca62a588aa56e4db94654      Hocus Pocus           Hip Hop ?   \n",
       "4  60dca62a588aa56e4db94655        La Fúmiga  Primera conjugació   \n",
       "\n",
       "      ironhacker                                              letra  \n",
       "0  ferqwertyuiop  [Intro]\\nCan you break bread with me?\\nBreak b...  \n",
       "1  ferqwertyuiop  Oh oh l'amor oh oh fa calor oh oh\\nOh oh l'amo...  \n",
       "2  ferqwertyuiop  [Intro]\\nWhy is it hard on my own though\\nWhy ...  \n",
       "3  ferqwertyuiop  [Intro]\\nThat's what it is, uh huh\\nNick Wiz, ...  \n",
       "4     soyungalgo  Se desplazo mi centro de gravedad\\nYa no soy l...  "
      ]
     },
     "execution_count": 9,
     "metadata": {},
     "output_type": "execute_result"
    }
   ],
   "source": [
    "df = pd.DataFrame(list(c.find({})))\n",
    "df.head()"
   ]
  },
  {
   "cell_type": "code",
   "execution_count": 10,
   "id": "trained-religious",
   "metadata": {},
   "outputs": [
    {
     "data": {
      "text/plain": [
       "(147, 5)"
      ]
     },
     "execution_count": 10,
     "metadata": {},
     "output_type": "execute_result"
    }
   ],
   "source": [
    "df.shape"
   ]
  },
  {
   "cell_type": "markdown",
   "id": "technical-rainbow",
   "metadata": {},
   "source": [
    "## Limpiamos un poco 🧹"
   ]
  },
  {
   "cell_type": "code",
   "execution_count": 15,
   "id": "bound-castle",
   "metadata": {},
   "outputs": [],
   "source": [
    "import re"
   ]
  },
  {
   "cell_type": "code",
   "execution_count": 19,
   "id": "guilty-implementation",
   "metadata": {},
   "outputs": [],
   "source": [
    "lisistrata = c.find_one({\"nombre\": \"Lisístrata\"})[\"letra\"]\n",
    "#print(lisistrata)"
   ]
  },
  {
   "cell_type": "markdown",
   "id": "prompt-aggregate",
   "metadata": {},
   "source": [
    "### Vamos a limpiarlo con Regex"
   ]
  },
  {
   "cell_type": "code",
   "execution_count": 20,
   "id": "ultimate-liability",
   "metadata": {},
   "outputs": [],
   "source": [
    "pat = \"\\[(.*?)\\]\""
   ]
  },
  {
   "cell_type": "code",
   "execution_count": 22,
   "id": "heavy-incident",
   "metadata": {},
   "outputs": [
    {
     "data": {
      "text/plain": [
       "' un ejemplo'"
      ]
     },
     "execution_count": 22,
     "metadata": {},
     "output_type": "execute_result"
    }
   ],
   "source": [
    "ejemplo = \"[hacemos] un ejemplo\"\n",
    "sin_corchetes = re.sub(pat,\"\", ejemplo)\n",
    "sin_corchetes"
   ]
  },
  {
   "cell_type": "markdown",
   "id": "friendly-developer",
   "metadata": {},
   "source": [
    "### Vamos a crear una nueva columna limpia"
   ]
  },
  {
   "cell_type": "code",
   "execution_count": 24,
   "id": "hindu-sperm",
   "metadata": {},
   "outputs": [],
   "source": [
    "def quitar_corchetes(string):\n",
    "    pat = \"\\[(.*?)\\]\"\n",
    "    sin_corchetes = re.sub(pat,\"\", string)\n",
    "    return sin_corchetes"
   ]
  },
  {
   "cell_type": "code",
   "execution_count": 25,
   "id": "ambient-blanket",
   "metadata": {},
   "outputs": [
    {
     "data": {
      "text/html": [
       "<div>\n",
       "<style scoped>\n",
       "    .dataframe tbody tr th:only-of-type {\n",
       "        vertical-align: middle;\n",
       "    }\n",
       "\n",
       "    .dataframe tbody tr th {\n",
       "        vertical-align: top;\n",
       "    }\n",
       "\n",
       "    .dataframe thead th {\n",
       "        text-align: right;\n",
       "    }\n",
       "</style>\n",
       "<table border=\"1\" class=\"dataframe\">\n",
       "  <thead>\n",
       "    <tr style=\"text-align: right;\">\n",
       "      <th></th>\n",
       "      <th>_id</th>\n",
       "      <th>artista</th>\n",
       "      <th>nombre</th>\n",
       "      <th>ironhacker</th>\n",
       "      <th>letra</th>\n",
       "    </tr>\n",
       "  </thead>\n",
       "  <tbody>\n",
       "    <tr>\n",
       "      <th>0</th>\n",
       "      <td>60dca62a588aa56e4db94651</td>\n",
       "      <td>Dominic Fike</td>\n",
       "      <td>Phone Numbers</td>\n",
       "      <td>ferqwertyuiop</td>\n",
       "      <td>\\nCan you break bread with me?\\nBreak bread wi...</td>\n",
       "    </tr>\n",
       "    <tr>\n",
       "      <th>1</th>\n",
       "      <td>60dca62a588aa56e4db94652</td>\n",
       "      <td>Renaldo &amp; Clara</td>\n",
       "      <td>L'amor fa calor</td>\n",
       "      <td>ferqwertyuiop</td>\n",
       "      <td>Oh oh l'amor oh oh fa calor oh oh\\nOh oh l'amo...</td>\n",
       "    </tr>\n",
       "    <tr>\n",
       "      <th>2</th>\n",
       "      <td>60dca62a588aa56e4db94653</td>\n",
       "      <td>rusowsky</td>\n",
       "      <td>So So</td>\n",
       "      <td>ferqwertyuiop</td>\n",
       "      <td>\\nWhy is it hard on my own though\\nWhy am I no...</td>\n",
       "    </tr>\n",
       "    <tr>\n",
       "      <th>3</th>\n",
       "      <td>60dca62a588aa56e4db94654</td>\n",
       "      <td>Hocus Pocus</td>\n",
       "      <td>Hip Hop ?</td>\n",
       "      <td>ferqwertyuiop</td>\n",
       "      <td>\\nThat's what it is, uh huh\\nNick Wiz, turn my...</td>\n",
       "    </tr>\n",
       "    <tr>\n",
       "      <th>4</th>\n",
       "      <td>60dca62a588aa56e4db94655</td>\n",
       "      <td>La Fúmiga</td>\n",
       "      <td>Primera conjugació</td>\n",
       "      <td>soyungalgo</td>\n",
       "      <td>Se desplazo mi centro de gravedad\\nYa no soy l...</td>\n",
       "    </tr>\n",
       "  </tbody>\n",
       "</table>\n",
       "</div>"
      ],
      "text/plain": [
       "                        _id          artista              nombre  \\\n",
       "0  60dca62a588aa56e4db94651     Dominic Fike       Phone Numbers   \n",
       "1  60dca62a588aa56e4db94652  Renaldo & Clara     L'amor fa calor   \n",
       "2  60dca62a588aa56e4db94653         rusowsky               So So   \n",
       "3  60dca62a588aa56e4db94654      Hocus Pocus           Hip Hop ?   \n",
       "4  60dca62a588aa56e4db94655        La Fúmiga  Primera conjugació   \n",
       "\n",
       "      ironhacker                                              letra  \n",
       "0  ferqwertyuiop  \\nCan you break bread with me?\\nBreak bread wi...  \n",
       "1  ferqwertyuiop  Oh oh l'amor oh oh fa calor oh oh\\nOh oh l'amo...  \n",
       "2  ferqwertyuiop  \\nWhy is it hard on my own though\\nWhy am I no...  \n",
       "3  ferqwertyuiop  \\nThat's what it is, uh huh\\nNick Wiz, turn my...  \n",
       "4     soyungalgo  Se desplazo mi centro de gravedad\\nYa no soy l...  "
      ]
     },
     "execution_count": 25,
     "metadata": {},
     "output_type": "execute_result"
    }
   ],
   "source": [
    "df[\"letra\"] = df.letra.apply(quitar_corchetes)\n",
    "df.head()"
   ]
  },
  {
   "cell_type": "markdown",
   "id": "interpreted-shooting",
   "metadata": {},
   "source": [
    "## NLP"
   ]
  },
  {
   "cell_type": "markdown",
   "id": "welcome-hacker",
   "metadata": {},
   "source": [
    "### Stop Words\n",
    "\n",
    "Palabras vacías es el nombre que reciben las palabras sin significado como artículos, pronombres, preposiciones, etc. que son filtradas antes o después del procesamiento de datos en lenguaje natural."
   ]
  },
  {
   "cell_type": "code",
   "execution_count": 26,
   "id": "regulation-symphony",
   "metadata": {},
   "outputs": [
    {
     "data": {
      "text/html": [
       "<div>\n",
       "<style scoped>\n",
       "    .dataframe tbody tr th:only-of-type {\n",
       "        vertical-align: middle;\n",
       "    }\n",
       "\n",
       "    .dataframe tbody tr th {\n",
       "        vertical-align: top;\n",
       "    }\n",
       "\n",
       "    .dataframe thead th {\n",
       "        text-align: right;\n",
       "    }\n",
       "</style>\n",
       "<table border=\"1\" class=\"dataframe\">\n",
       "  <thead>\n",
       "    <tr style=\"text-align: right;\">\n",
       "      <th></th>\n",
       "      <th>_id</th>\n",
       "      <th>artista</th>\n",
       "      <th>nombre</th>\n",
       "      <th>ironhacker</th>\n",
       "      <th>letra</th>\n",
       "    </tr>\n",
       "  </thead>\n",
       "  <tbody>\n",
       "    <tr>\n",
       "      <th>0</th>\n",
       "      <td>60dca62a588aa56e4db94651</td>\n",
       "      <td>Dominic Fike</td>\n",
       "      <td>Phone Numbers</td>\n",
       "      <td>ferqwertyuiop</td>\n",
       "      <td>\\nCan you break bread with me?\\nBreak bread wi...</td>\n",
       "    </tr>\n",
       "    <tr>\n",
       "      <th>1</th>\n",
       "      <td>60dca62a588aa56e4db94652</td>\n",
       "      <td>Renaldo &amp; Clara</td>\n",
       "      <td>L'amor fa calor</td>\n",
       "      <td>ferqwertyuiop</td>\n",
       "      <td>Oh oh l'amor oh oh fa calor oh oh\\nOh oh l'amo...</td>\n",
       "    </tr>\n",
       "    <tr>\n",
       "      <th>2</th>\n",
       "      <td>60dca62a588aa56e4db94653</td>\n",
       "      <td>rusowsky</td>\n",
       "      <td>So So</td>\n",
       "      <td>ferqwertyuiop</td>\n",
       "      <td>\\nWhy is it hard on my own though\\nWhy am I no...</td>\n",
       "    </tr>\n",
       "    <tr>\n",
       "      <th>3</th>\n",
       "      <td>60dca62a588aa56e4db94654</td>\n",
       "      <td>Hocus Pocus</td>\n",
       "      <td>Hip Hop ?</td>\n",
       "      <td>ferqwertyuiop</td>\n",
       "      <td>\\nThat's what it is, uh huh\\nNick Wiz, turn my...</td>\n",
       "    </tr>\n",
       "    <tr>\n",
       "      <th>4</th>\n",
       "      <td>60dca62a588aa56e4db94655</td>\n",
       "      <td>La Fúmiga</td>\n",
       "      <td>Primera conjugació</td>\n",
       "      <td>soyungalgo</td>\n",
       "      <td>Se desplazo mi centro de gravedad\\nYa no soy l...</td>\n",
       "    </tr>\n",
       "  </tbody>\n",
       "</table>\n",
       "</div>"
      ],
      "text/plain": [
       "                        _id          artista              nombre  \\\n",
       "0  60dca62a588aa56e4db94651     Dominic Fike       Phone Numbers   \n",
       "1  60dca62a588aa56e4db94652  Renaldo & Clara     L'amor fa calor   \n",
       "2  60dca62a588aa56e4db94653         rusowsky               So So   \n",
       "3  60dca62a588aa56e4db94654      Hocus Pocus           Hip Hop ?   \n",
       "4  60dca62a588aa56e4db94655        La Fúmiga  Primera conjugació   \n",
       "\n",
       "      ironhacker                                              letra  \n",
       "0  ferqwertyuiop  \\nCan you break bread with me?\\nBreak bread wi...  \n",
       "1  ferqwertyuiop  Oh oh l'amor oh oh fa calor oh oh\\nOh oh l'amo...  \n",
       "2  ferqwertyuiop  \\nWhy is it hard on my own though\\nWhy am I no...  \n",
       "3  ferqwertyuiop  \\nThat's what it is, uh huh\\nNick Wiz, turn my...  \n",
       "4     soyungalgo  Se desplazo mi centro de gravedad\\nYa no soy l...  "
      ]
     },
     "execution_count": 26,
     "metadata": {},
     "output_type": "execute_result"
    }
   ],
   "source": [
    "df.head()"
   ]
  },
  {
   "cell_type": "code",
   "execution_count": 27,
   "id": "secret-dryer",
   "metadata": {},
   "outputs": [
    {
     "data": {
      "text/plain": [
       "_id           0\n",
       "artista       0\n",
       "nombre        0\n",
       "ironhacker    0\n",
       "letra         0\n",
       "dtype: int64"
      ]
     },
     "execution_count": 27,
     "metadata": {},
     "output_type": "execute_result"
    }
   ],
   "source": [
    "df.isnull().sum()"
   ]
  },
  {
   "cell_type": "code",
   "execution_count": null,
   "id": "potential-divide",
   "metadata": {},
   "outputs": [],
   "source": [
    "#! pip install spacy"
   ]
  },
  {
   "cell_type": "code",
   "execution_count": 28,
   "id": "healthy-glory",
   "metadata": {},
   "outputs": [],
   "source": [
    "import string\n",
    "import spacy"
   ]
  },
  {
   "cell_type": "markdown",
   "id": "visible-composer",
   "metadata": {},
   "source": [
    "[Documentación Spacy](https://spacy.io/api/doc/)"
   ]
  },
  {
   "cell_type": "markdown",
   "id": "sufficient-ownership",
   "metadata": {},
   "source": [
    "### Tokenizar\n",
    "Una de las formas de normalizar nuestros tokens es mediante stemming y lemmatization.\n",
    "El stemming consiste en quitar y reemplazar sufijos de la raíz de la palabra. La lemmatización es un poco más compleja e implica hacer un análisis del vocabulario y su morfología para retornar la forma básica de la palabra (sin conjugar, en singular, etc).    \n",
    "Leed [este](https://medium.com/escueladeinteligenciaartificial/procesamiento-de-lenguaje-natural-stemming-y-lemmas-f5efd90dca8) interesante artículo.\n",
    "**Meter DOC spacy**"
   ]
  },
  {
   "cell_type": "code",
   "execution_count": 33,
   "id": "elder-holder",
   "metadata": {},
   "outputs": [],
   "source": [
    "nlp = spacy.load(\"en_core_web_sm\")\n",
    "nlp_es=spacy.load('es_core_news_sm')"
   ]
  },
  {
   "cell_type": "code",
   "execution_count": 35,
   "id": "based-spelling",
   "metadata": {},
   "outputs": [],
   "source": [
    "prueba = nlp(df.loc[0][\"letra\"])"
   ]
  },
  {
   "cell_type": "code",
   "execution_count": 47,
   "id": "structural-intellectual",
   "metadata": {},
   "outputs": [
    {
     "data": {
      "text/plain": [
       "you"
      ]
     },
     "execution_count": 47,
     "metadata": {},
     "output_type": "execute_result"
    }
   ],
   "source": [
    "prueba[2]"
   ]
  },
  {
   "cell_type": "code",
   "execution_count": 48,
   "id": "original-emerald",
   "metadata": {},
   "outputs": [
    {
     "data": {
      "text/plain": [
       "True"
      ]
     },
     "execution_count": 48,
     "metadata": {},
     "output_type": "execute_result"
    }
   ],
   "source": [
    "prueba[2].is_stop"
   ]
  },
  {
   "cell_type": "code",
   "execution_count": 49,
   "id": "ahead-language",
   "metadata": {},
   "outputs": [
    {
     "data": {
      "text/plain": [
       "\n",
       "Can you break bread with me?\n",
       "Break bread with me, break, break\n",
       "Can you break bread with me?\n",
       "Break bread with me\n",
       "Woah, Kenny\n",
       "\n",
       "\n",
       "Why you not here with me?\n",
       "Can you break bread with me?\n",
       "Why you switch phone numbers like clothes?\n",
       "Why you can't answer me? (Yeah)\n",
       "'Cause I got more coming\n",
       "Why you not here with me? (Why? Why?)\n",
       "Can you break bread with me? (Oh)\n",
       "Why you switch phone numbers like clothes? (Uh)\n",
       "Why you can't answer me? (Yeah, why?)\n",
       "'Cause I got more coming\n",
       "\n",
       "\n",
       "Yes, I moved my shawty from Florida to Hollywood\n",
       "Bought some gold, shit look big on me\n",
       "Got some goals, it's a list on me\n",
       "Yeah, lil' bitch, I'm rich off rock 'n' roll\n",
       "The strippers and the strobe playin' tricks on me\n",
       "The stones hittin' different, you supposed to be pissed at me (No)\n",
       "They from Tiffany (Please)\n",
       "Keep my name out yo mouth like some wisdom teeth\n",
       "(And you wonder why) Why I'm not there with you\n",
       "(I ain't answered my phone in so long)\n",
       "\n",
       "\n",
       "Why you not here with me?\n",
       "Can you break bread with me?\n",
       "Why you switch phone numbers like clothes?\n",
       "Why you can't answer me? (Yeah)\n",
       "'Cause I got more coming\n",
       "Why you not here with me? (Why? Why?)\n",
       "Can you break bread with me?\n",
       "Why you switch phone numbers like clothes?\n",
       "Why you can't answer me? (Yeah, why?)\n",
       "'Cause I got more coming\n",
       "\n",
       "\n",
       "Can you break bread with me?\n",
       "Break, break bread with me (Yeah, okay)\n",
       "Break, break, can you break bread with me?\n",
       "Break bread with me (Huh)\n",
       "Can you break bread with me?\n",
       "\n",
       "\n",
       "And yes, I moved lil' shawty from 'round me, she been all in my business as of late\n",
       "I got rich so goddamn fast, they want this bread, can't catch a break\n",
       "And yes, I know you tired of hatin', I'm tired of starin' at your face\n",
       "And if a bitch retaliate, we can go tit-for-tat today\n",
       "That's on my momma, that's on big Sean, that's on Lil' A from FLA\n",
       "Out here in LA, tryna make shit shake, tryna wrap this case (Ho)\n",
       "That's a whole hundred twenty K to the magistrate for my parents' sake\n",
       "And you still talkin' 'bout sharing cake, shut the fuck up\n",
       "\n",
       "\n",
       "Why you not here with me?\n",
       "Can you break bread with me?\n",
       "Why you switch phone numbers like clothes?\n",
       "Why you can't answer me? (Yeah)\n",
       "'Cause I got more coming\n",
       "Why you not here with me? (Why?)\n",
       "Can you break bread with me? (Oh)\n",
       "Why you switch phone numbers like clothes? (Uh)\n",
       "Why you can't answer me? (Yeah)\n",
       "'Cause I got more coming\n",
       "\n",
       "\n",
       "Can you break bread with me?\n",
       "Break, break bread with me (Okay)\n",
       "Break, break, can you break bread with me?\n",
       "Break bread with me"
      ]
     },
     "execution_count": 49,
     "metadata": {},
     "output_type": "execute_result"
    }
   ],
   "source": [
    "prueba"
   ]
  },
  {
   "cell_type": "code",
   "execution_count": 32,
   "id": "spoken-craft",
   "metadata": {},
   "outputs": [],
   "source": [
    "from langdetect import detect\n",
    "# Módulo que reconoce los idiomas en un texto"
   ]
  },
  {
   "cell_type": "markdown",
   "id": "distinguished-giving",
   "metadata": {},
   "source": [
    "Vamos a escribir una función que va a tokenizar las letras de nuestras canciones sin importar si están en castellano o en inglés"
   ]
  },
  {
   "cell_type": "code",
   "execution_count": 52,
   "id": "preliminary-federation",
   "metadata": {},
   "outputs": [],
   "source": [
    "def tokenizer(txt):\n",
    "    try:\n",
    "        \n",
    "        if detect(txt) == \"en\": #si el texto está en inglés...\n",
    "            nlp = spacy.load(\"en_core_web_sm\")\n",
    "        \n",
    "        elif detext(txt) == \"es\": #si el texto está en castellano....\n",
    "            nlp =  spacy.load('es_core_news_sm')\n",
    "            \n",
    "        else:\n",
    "            return \"no es castellano ni inglés\"\n",
    "        \n",
    "    except: \n",
    "        return \"No puedo analizarlo\"\n",
    "        \n",
    "\n",
    "    tokens = nlp(txt)\n",
    "    filter_tokens = []\n",
    "    \n",
    "    for word in tokens:\n",
    "        if not word.is_stop:\n",
    "            lemma = word.lemma_.lower().strip()\n",
    "            if re.search(\"^[a-zA-Z]+$\", lemma):\n",
    "                filter_tokens.append(lemma)\n",
    "            \n",
    "    return \" \".join(filter_tokens)"
   ]
  },
  {
   "cell_type": "code",
   "execution_count": 57,
   "id": "studied-dispatch",
   "metadata": {},
   "outputs": [
    {
     "data": {
      "text/plain": [
       "'No puedo analizarlo'"
      ]
     },
     "execution_count": 57,
     "metadata": {},
     "output_type": "execute_result"
    }
   ],
   "source": [
    "tokenizer(\"hola qué tal estás\")"
   ]
  },
  {
   "cell_type": "code",
   "execution_count": 53,
   "id": "familiar-cotton",
   "metadata": {},
   "outputs": [
    {
     "data": {
      "text/plain": [
       "'break bread break bread break break break bread break bread woah kenny break bread switch phone number like clothe answer yeah get come break bread oh switch phone number like clothe uh answer yeah get come yes move shawty florida hollywood buy gold shit look big got goal list yeah lil bitch rich rock n roll stripper strobe playin trick stone hittin different suppose piss tiffany yo mouth like wisdom tooth wonder ai answer phone long break bread switch phone number like clothe answer yeah get come break bread switch phone number like clothe answer yeah get come break bread break break bread yeah okay break break break bread break bread huh break bread yes move lil shawty round business late get rich goddamn fast want bread catch break yes know tired hatin tired starin face bitch retaliate tit tat today momma big sean lil fla la tryna shit shake tryna wrap case ho k magistrate parent sake talkin sharing cake shut fuck break bread switch phone number like clothe answer yeah get come break bread oh switch phone number like clothe uh answer yeah get come break bread break break bread okay break break break bread break bread'"
      ]
     },
     "execution_count": 53,
     "metadata": {},
     "output_type": "execute_result"
    }
   ],
   "source": [
    "tokenizer(df.loc[0][\"letra\"])"
   ]
  },
  {
   "cell_type": "code",
   "execution_count": 56,
   "id": "graphic-circuit",
   "metadata": {},
   "outputs": [],
   "source": [
    "df[\"tokens\"] = df.letra.apply(tokenizer)"
   ]
  },
  {
   "cell_type": "code",
   "execution_count": 58,
   "id": "configured-representative",
   "metadata": {},
   "outputs": [
    {
     "data": {
      "text/html": [
       "<div>\n",
       "<style scoped>\n",
       "    .dataframe tbody tr th:only-of-type {\n",
       "        vertical-align: middle;\n",
       "    }\n",
       "\n",
       "    .dataframe tbody tr th {\n",
       "        vertical-align: top;\n",
       "    }\n",
       "\n",
       "    .dataframe thead th {\n",
       "        text-align: right;\n",
       "    }\n",
       "</style>\n",
       "<table border=\"1\" class=\"dataframe\">\n",
       "  <thead>\n",
       "    <tr style=\"text-align: right;\">\n",
       "      <th></th>\n",
       "      <th>_id</th>\n",
       "      <th>artista</th>\n",
       "      <th>nombre</th>\n",
       "      <th>ironhacker</th>\n",
       "      <th>letra</th>\n",
       "      <th>tokens</th>\n",
       "    </tr>\n",
       "  </thead>\n",
       "  <tbody>\n",
       "    <tr>\n",
       "      <th>0</th>\n",
       "      <td>60dca62a588aa56e4db94651</td>\n",
       "      <td>Dominic Fike</td>\n",
       "      <td>Phone Numbers</td>\n",
       "      <td>ferqwertyuiop</td>\n",
       "      <td>\\nCan you break bread with me?\\nBreak bread wi...</td>\n",
       "      <td>break bread break bread break break break brea...</td>\n",
       "    </tr>\n",
       "    <tr>\n",
       "      <th>1</th>\n",
       "      <td>60dca62a588aa56e4db94652</td>\n",
       "      <td>Renaldo &amp; Clara</td>\n",
       "      <td>L'amor fa calor</td>\n",
       "      <td>ferqwertyuiop</td>\n",
       "      <td>Oh oh l'amor oh oh fa calor oh oh\\nOh oh l'amo...</td>\n",
       "      <td>No puedo analizarlo</td>\n",
       "    </tr>\n",
       "    <tr>\n",
       "      <th>2</th>\n",
       "      <td>60dca62a588aa56e4db94653</td>\n",
       "      <td>rusowsky</td>\n",
       "      <td>So So</td>\n",
       "      <td>ferqwertyuiop</td>\n",
       "      <td>\\nWhy is it hard on my own though\\nWhy am I no...</td>\n",
       "      <td>hard like bit curtain come curtain come end wi...</td>\n",
       "    </tr>\n",
       "    <tr>\n",
       "      <th>3</th>\n",
       "      <td>60dca62a588aa56e4db94654</td>\n",
       "      <td>Hocus Pocus</td>\n",
       "      <td>Hip Hop ?</td>\n",
       "      <td>ferqwertyuiop</td>\n",
       "      <td>\\nThat's what it is, uh huh\\nNick Wiz, turn my...</td>\n",
       "      <td>uh huh nick wiz turn headphone man uh uh ayo m...</td>\n",
       "    </tr>\n",
       "    <tr>\n",
       "      <th>4</th>\n",
       "      <td>60dca62a588aa56e4db94655</td>\n",
       "      <td>La Fúmiga</td>\n",
       "      <td>Primera conjugació</td>\n",
       "      <td>soyungalgo</td>\n",
       "      <td>Se desplazo mi centro de gravedad\\nYa no soy l...</td>\n",
       "      <td>No puedo analizarlo</td>\n",
       "    </tr>\n",
       "  </tbody>\n",
       "</table>\n",
       "</div>"
      ],
      "text/plain": [
       "                        _id          artista              nombre  \\\n",
       "0  60dca62a588aa56e4db94651     Dominic Fike       Phone Numbers   \n",
       "1  60dca62a588aa56e4db94652  Renaldo & Clara     L'amor fa calor   \n",
       "2  60dca62a588aa56e4db94653         rusowsky               So So   \n",
       "3  60dca62a588aa56e4db94654      Hocus Pocus           Hip Hop ?   \n",
       "4  60dca62a588aa56e4db94655        La Fúmiga  Primera conjugació   \n",
       "\n",
       "      ironhacker                                              letra  \\\n",
       "0  ferqwertyuiop  \\nCan you break bread with me?\\nBreak bread wi...   \n",
       "1  ferqwertyuiop  Oh oh l'amor oh oh fa calor oh oh\\nOh oh l'amo...   \n",
       "2  ferqwertyuiop  \\nWhy is it hard on my own though\\nWhy am I no...   \n",
       "3  ferqwertyuiop  \\nThat's what it is, uh huh\\nNick Wiz, turn my...   \n",
       "4     soyungalgo  Se desplazo mi centro de gravedad\\nYa no soy l...   \n",
       "\n",
       "                                              tokens  \n",
       "0  break bread break bread break break break brea...  \n",
       "1                                No puedo analizarlo  \n",
       "2  hard like bit curtain come curtain come end wi...  \n",
       "3  uh huh nick wiz turn headphone man uh uh ayo m...  \n",
       "4                                No puedo analizarlo  "
      ]
     },
     "execution_count": 58,
     "metadata": {},
     "output_type": "execute_result"
    }
   ],
   "source": [
    "df.head()"
   ]
  },
  {
   "cell_type": "markdown",
   "id": "metropolitan-contributor",
   "metadata": {},
   "source": [
    "Comprobamos que funciona pasándole una letra a la función"
   ]
  },
  {
   "cell_type": "markdown",
   "id": "agreed-difficulty",
   "metadata": {},
   "source": [
    "## WordClouds\n",
    "Una nube de palabras o nube de etiquetas es una representación visual de las palabras que conforman un texto, en donde el tamaño es mayor para las palabras que aparecen con más frecuencia"
   ]
  },
  {
   "cell_type": "markdown",
   "id": "humanitarian-trance",
   "metadata": {},
   "source": [
    "![wordcloud](https://i.imgur.com/8I8aJ1N.png)"
   ]
  },
  {
   "cell_type": "code",
   "execution_count": 54,
   "id": "exterior-monitoring",
   "metadata": {},
   "outputs": [],
   "source": [
    "from wordcloud import WordCloud\n",
    "import matplotlib.pyplot as plt\n",
    "%matplotlib inline"
   ]
  },
  {
   "cell_type": "markdown",
   "id": "frank-palace",
   "metadata": {},
   "source": [
    "### Generamos un WorCloud de una canción"
   ]
  },
  {
   "cell_type": "code",
   "execution_count": 60,
   "id": "crucial-middle",
   "metadata": {},
   "outputs": [],
   "source": [
    "def wordcloud(df,row,col):\n",
    "    wordcloud= WordCloud(width=1600,\n",
    "                        height=400).generate(df.loc[row][col])\n",
    "    \n",
    "    plt.figure(figsize=(15,10), facecolor=\"k\")\n",
    "    plt.imshow(wordcloud)\n",
    "    plt.axis(\"off\")\n",
    "    plt.tight_layout(pad=0)\n",
    "    plt.savefig(\"images/wordcloud.png\", facecolor=\"k\", bbox_inches=\"tight\")\n",
    "    plt.show();"
   ]
  },
  {
   "cell_type": "code",
   "execution_count": 62,
   "id": "fatty-midnight",
   "metadata": {},
   "outputs": [
    {
     "data": {
      "image/png": "[encoded data removed]",
      "text/plain": [
       "<Figure size 1080x720 with 1 Axes>"
      ]
     },
     "metadata": {},
     "output_type": "display_data"
    }
   ],
   "source": [
    "wordcloud(df,8,\"tokens\")"
   ]
  },
  {
   "cell_type": "code",
   "execution_count": 64,
   "id": "excess-aspect",
   "metadata": {},
   "outputs": [
    {
     "data": {
      "text/plain": [
       "'Favorite Things'"
      ]
     },
     "execution_count": 64,
     "metadata": {},
     "output_type": "execute_result"
    }
   ],
   "source": [
    "df.loc[8][\"ae\"]"
   ]
  },
  {
   "cell_type": "markdown",
   "id": "opened-tobago",
   "metadata": {},
   "source": [
    "### También podemos generarlo de un dataframe entero"
   ]
  },
  {
   "cell_type": "code",
   "execution_count": null,
   "id": "comparative-threshold",
   "metadata": {},
   "outputs": [],
   "source": []
  },
  {
   "cell_type": "code",
   "execution_count": null,
   "id": "opened-organic",
   "metadata": {},
   "outputs": [],
   "source": []
  },
  {
   "cell_type": "markdown",
   "id": "breeding-increase",
   "metadata": {},
   "source": [
    "## Traducimos\n",
    "Un poco a nuestro pesar, aunque hay librerías que funcionan en Castellano (la parte de Spacy entrenada en castellano funciona muy bien), lo cierto es que funcionan mejor en inglés, en general, hay otras librerías que no son tan exactas y aún así incluso Spacy funciona mejor en inglés, así que vamos a traducir las letras.     \n",
    "La librería TextBlob, que vamos a usar más adelante para hacer análisis de sentimientos también traduce, pero mejor vamos a utilizar googletrans y su librería, ojo al instalarla:      \n",
    "`pip install googletrans==3.1.0a0`      \n",
    "Hay que instalar la versión alfa que la oficial tiene issues.\n",
    "Creamos una columna en el dataframe con todas las letras traducidas, y dejamos la original también, por si la necesitáramos."
   ]
  },
  {
   "cell_type": "code",
   "execution_count": null,
   "id": "southeast-borough",
   "metadata": {},
   "outputs": [],
   "source": [
    "from googletrans import Translator"
   ]
  },
  {
   "cell_type": "code",
   "execution_count": null,
   "id": "given-spell",
   "metadata": {},
   "outputs": [],
   "source": [
    "# Vemos cómo traducir una frase\n"
   ]
  },
  {
   "cell_type": "code",
   "execution_count": null,
   "id": "expected-mainstream",
   "metadata": {},
   "outputs": [],
   "source": []
  },
  {
   "cell_type": "markdown",
   "id": "corresponding-reset",
   "metadata": {},
   "source": [
    "De nuevo seguimos con la tónica de automatizar y hacer funciones para todo y así poder reutilizar código"
   ]
  },
  {
   "cell_type": "code",
   "execution_count": null,
   "id": "essential-department",
   "metadata": {},
   "outputs": [],
   "source": []
  },
  {
   "cell_type": "code",
   "execution_count": null,
   "id": "continuous-debut",
   "metadata": {},
   "outputs": [],
   "source": []
  },
  {
   "cell_type": "code",
   "execution_count": null,
   "id": "broadband-order",
   "metadata": {},
   "outputs": [],
   "source": []
  },
  {
   "cell_type": "markdown",
   "id": "significant-wireless",
   "metadata": {},
   "source": [
    "## Sentiment analysis\n",
    "### TextBlob\n",
    "`TextBlob(the_string).sentiment`      \n",
    "\n",
    "**Argumentos:** `string`<br>\n",
    "**Devuelve:** `polaridad`& `subjetividad`\n",
    "\n",
    "\n",
    "La propiedad de sentimiento devuelve una tupla con nombre de la forma Sentimiento(polaridad, subjetividad). La puntuación de la polaridad es un float dentro del rango [-1,0, 1,0]. La subjetividad es un float dentro del rango [0.0, 1.0] donde 0.0 es muy objetivo y 1.0 es muy subjetivo.\n",
    "\n",
    "TextBlob se apoya en dos librerías, NLTK y pattern, os dejo laa [documentación](https://textblob.readthedocs.io/en/dev/)\n"
   ]
  },
  {
   "cell_type": "code",
   "execution_count": null,
   "id": "hispanic-pepper",
   "metadata": {},
   "outputs": [],
   "source": []
  },
  {
   "cell_type": "code",
   "execution_count": null,
   "id": "diagnostic-strain",
   "metadata": {},
   "outputs": [],
   "source": []
  },
  {
   "cell_type": "code",
   "execution_count": null,
   "id": "romantic-pipeline",
   "metadata": {},
   "outputs": [],
   "source": []
  },
  {
   "cell_type": "code",
   "execution_count": null,
   "id": "major-barrier",
   "metadata": {},
   "outputs": [],
   "source": []
  },
  {
   "cell_type": "code",
   "execution_count": null,
   "id": "funded-alabama",
   "metadata": {},
   "outputs": [],
   "source": []
  },
  {
   "cell_type": "markdown",
   "id": "promotional-musician",
   "metadata": {},
   "source": [
    "### NLTK\n",
    "El kit de herramientas de lenguaje natural, o más comúnmente NLTK, es un conjunto de bibliotecas y programas para el procesamiento del lenguaje natural simbólico y estadísticos para el lenguaje de programación Python. NLTK incluye demostraciones gráficas y datos de muestra.\n",
    "\n",
    "En este caso vamos a sacar también la polaridad con el módulo [SentimentIntensityAnalizer](https://www.nltk.org/api/nltk.sentiment.html#module-nltk.sentiment.vader)      \n",
    "\n",
    "`sia.polarity_scores(the_string)`\n",
    "\n",
    "**Arumentoss:** `string`<br>\n",
    "**Devuelve:** `polaridad`"
   ]
  },
  {
   "cell_type": "code",
   "execution_count": null,
   "id": "another-methodology",
   "metadata": {},
   "outputs": [],
   "source": [
    "import nltk\n",
    "from nltk.sentiment.vader import SentimentIntensityAnalyzer"
   ]
  },
  {
   "cell_type": "code",
   "execution_count": null,
   "id": "acute-corrections",
   "metadata": {},
   "outputs": [],
   "source": []
  },
  {
   "cell_type": "code",
   "execution_count": null,
   "id": "becoming-excess",
   "metadata": {},
   "outputs": [],
   "source": []
  },
  {
   "cell_type": "code",
   "execution_count": null,
   "id": "scientific-northern",
   "metadata": {},
   "outputs": [],
   "source": []
  },
  {
   "cell_type": "markdown",
   "id": "falling-smooth",
   "metadata": {},
   "source": [
    "Información sobre el [compound](https://github.com/cjhutto/vaderSentiment#about-the-scoring)     \n",
    "Es la suma de las puntuaciones normalizada entre -1 y 1"
   ]
  },
  {
   "cell_type": "code",
   "execution_count": null,
   "id": "developed-conference",
   "metadata": {},
   "outputs": [],
   "source": []
  },
  {
   "cell_type": "code",
   "execution_count": null,
   "id": "sustained-trick",
   "metadata": {},
   "outputs": [],
   "source": []
  },
  {
   "cell_type": "markdown",
   "id": "derived-century",
   "metadata": {},
   "source": [
    "### ¿Os acordáis de que habíamos hecho una función que tokenizaba?"
   ]
  },
  {
   "cell_type": "code",
   "execution_count": null,
   "id": "professional-affect",
   "metadata": {},
   "outputs": [],
   "source": []
  },
  {
   "cell_type": "code",
   "execution_count": null,
   "id": "accompanied-practice",
   "metadata": {},
   "outputs": [],
   "source": []
  },
  {
   "cell_type": "code",
   "execution_count": null,
   "id": "invisible-pencil",
   "metadata": {},
   "outputs": [],
   "source": []
  },
  {
   "cell_type": "code",
   "execution_count": null,
   "id": "relevant-albert",
   "metadata": {},
   "outputs": [],
   "source": []
  },
  {
   "cell_type": "code",
   "execution_count": null,
   "id": "beginning-catch",
   "metadata": {},
   "outputs": [],
   "source": []
  },
  {
   "cell_type": "code",
   "execution_count": null,
   "id": "accepted-artist",
   "metadata": {},
   "outputs": [],
   "source": []
  },
  {
   "cell_type": "code",
   "execution_count": null,
   "id": "spectacular-shower",
   "metadata": {},
   "outputs": [],
   "source": [
    "import plotly.express as px\n",
    "import plotly.graph_objects as go"
   ]
  },
  {
   "cell_type": "code",
   "execution_count": null,
   "id": "electoral-butterfly",
   "metadata": {},
   "outputs": [],
   "source": []
  }
 ],
 "metadata": {
  "kernelspec": {
   "display_name": "ironhack",
   "language": "python",
   "name": "ironhack"
  },
  "language_info": {
   "codemirror_mode": {
    "name": "ipython",
    "version": 3
   },
   "file_extension": ".py",
   "mimetype": "text/x-python",
   "name": "python",
   "nbconvert_exporter": "python",
   "pygments_lexer": "ipython3",
   "version": "3.8.5"
  },
  "toc": {
   "base_numbering": 1,
   "nav_menu": {},
   "number_sections": true,
   "sideBar": true,
   "skip_h1_title": true,
   "title_cell": "Table of Contents",
   "title_sidebar": "Contents",
   "toc_cell": true,
   "toc_position": {},
   "toc_section_display": true,
   "toc_window_display": true
  }
 },
 "nbformat": 4,
 "nbformat_minor": 5
}
